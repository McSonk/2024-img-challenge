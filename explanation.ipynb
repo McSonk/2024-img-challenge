{
 "cells": [
  {
   "cell_type": "markdown",
   "metadata": {},
   "source": [
    "# Assignment for brain"
   ]
  },
  {
   "cell_type": "markdown",
   "metadata": {},
   "source": [
    "## 1. Data Exploration"
   ]
  },
  {
   "cell_type": "markdown",
   "metadata": {},
   "source": [
    "### Package imports.\n",
    "\n",
    "- nibabel: visualization"
   ]
  },
  {
   "cell_type": "code",
   "execution_count": 5,
   "metadata": {},
   "outputs": [],
   "source": [
    "import os\n",
    "import glob\n",
    "import re\n",
    "import pandas as pd\n",
    "# For excel reading, also install openpyxl\n",
    "import numpy as np\n",
    "import torch\n",
    "# from sklearn.model_selection import train_test_split\n",
    "import nibabel as nib\n",
    "import matplotlib.pyplot as plt\n"
   ]
  },
  {
   "cell_type": "markdown",
   "metadata": {},
   "source": [
    "### Constants\n",
    "\n",
    "- `BASE_PATH`: The location of the image files"
   ]
  },
  {
   "cell_type": "code",
   "execution_count": 34,
   "metadata": {},
   "outputs": [],
   "source": [
    "BASE_PATH = 'Data/'\n",
    "TCIA_LOCATION = BASE_PATH + 'TCIA/'\n",
    "TCIA_EXCEL = TCIA_LOCATION + 'HCC-TACE-Seg_clinical_data-V2.xlsx'\n",
    "TCIA_IMG_PATH = TCIA_LOCATION + 'TCIA_results_phase_PV/'\n",
    "TCIA_IMG_SUFFIX = '_PV.nii.gz'"
   ]
  },
  {
   "cell_type": "markdown",
   "metadata": {},
   "source": [
    "### Data exploration "
   ]
  },
  {
   "cell_type": "code",
   "execution_count": 26,
   "metadata": {},
   "outputs": [],
   "source": [
    "data = pd.read_excel(TCIA_EXCEL)"
   ]
  },
  {
   "cell_type": "code",
   "execution_count": 16,
   "metadata": {},
   "outputs": [
    {
     "data": {
      "text/html": [
       "<div>\n",
       "<style scoped>\n",
       "    .dataframe tbody tr th:only-of-type {\n",
       "        vertical-align: middle;\n",
       "    }\n",
       "\n",
       "    .dataframe tbody tr th {\n",
       "        vertical-align: top;\n",
       "    }\n",
       "\n",
       "    .dataframe thead th {\n",
       "        text-align: right;\n",
       "    }\n",
       "</style>\n",
       "<table border=\"1\" class=\"dataframe\">\n",
       "  <thead>\n",
       "    <tr style=\"text-align: right;\">\n",
       "      <th></th>\n",
       "      <th>TCIA_ID</th>\n",
       "      <th>Interval_BL</th>\n",
       "      <th>Interval_FU</th>\n",
       "      <th>TTP</th>\n",
       "      <th>Death_1_StillAliveorLostToFU_0</th>\n",
       "      <th>Censored_0_progressed_1</th>\n",
       "      <th>OS</th>\n",
       "      <th>hepatitis</th>\n",
       "      <th>age</th>\n",
       "      <th>agegp</th>\n",
       "      <th>...</th>\n",
       "      <th>3_RECIST</th>\n",
       "      <th>1_mRECIST_BL</th>\n",
       "      <th>1_mRECIST_FU</th>\n",
       "      <th>1_mRECIST</th>\n",
       "      <th>2_mRECIST_BL</th>\n",
       "      <th>2_mRECIST_FU</th>\n",
       "      <th>2_mRECIST</th>\n",
       "      <th>3_mRECIST_BL</th>\n",
       "      <th>3_mRECIST_FU</th>\n",
       "      <th>3_mRECIST</th>\n",
       "    </tr>\n",
       "  </thead>\n",
       "  <tbody>\n",
       "    <tr>\n",
       "      <th>0</th>\n",
       "      <td>HCC_001</td>\n",
       "      <td>-18</td>\n",
       "      <td>20.43</td>\n",
       "      <td>197.000000</td>\n",
       "      <td>1</td>\n",
       "      <td>1</td>\n",
       "      <td>350.285714</td>\n",
       "      <td>HCV only</td>\n",
       "      <td>71</td>\n",
       "      <td>&gt;70</td>\n",
       "      <td>...</td>\n",
       "      <td>3.0</td>\n",
       "      <td>44.5</td>\n",
       "      <td>0.0</td>\n",
       "      <td>1.0</td>\n",
       "      <td>43.0</td>\n",
       "      <td>0.0</td>\n",
       "      <td>1.0</td>\n",
       "      <td>43.0</td>\n",
       "      <td>0.0</td>\n",
       "      <td>1.0</td>\n",
       "    </tr>\n",
       "    <tr>\n",
       "      <th>1</th>\n",
       "      <td>HCC_002</td>\n",
       "      <td>84</td>\n",
       "      <td>22.86</td>\n",
       "      <td>20.714286</td>\n",
       "      <td>1</td>\n",
       "      <td>0</td>\n",
       "      <td>25.285714</td>\n",
       "      <td>HBV only</td>\n",
       "      <td>72</td>\n",
       "      <td>&gt;70</td>\n",
       "      <td>...</td>\n",
       "      <td>3.0</td>\n",
       "      <td>103.7</td>\n",
       "      <td>58.6</td>\n",
       "      <td>2.0</td>\n",
       "      <td>107.0</td>\n",
       "      <td>69.0</td>\n",
       "      <td>2.0</td>\n",
       "      <td>106.0</td>\n",
       "      <td>58.6</td>\n",
       "      <td>2.0</td>\n",
       "    </tr>\n",
       "    <tr>\n",
       "      <th>2</th>\n",
       "      <td>HCC_003</td>\n",
       "      <td>3</td>\n",
       "      <td>7.00</td>\n",
       "      <td>5.571429</td>\n",
       "      <td>1</td>\n",
       "      <td>1</td>\n",
       "      <td>21.428571</td>\n",
       "      <td>HCV only</td>\n",
       "      <td>53</td>\n",
       "      <td>51-60</td>\n",
       "      <td>...</td>\n",
       "      <td>3.0</td>\n",
       "      <td>162.2</td>\n",
       "      <td>173.9</td>\n",
       "      <td>3.0</td>\n",
       "      <td>87.0</td>\n",
       "      <td>127.0</td>\n",
       "      <td>4.0</td>\n",
       "      <td>127.0</td>\n",
       "      <td>138.0</td>\n",
       "      <td>3.0</td>\n",
       "    </tr>\n",
       "    <tr>\n",
       "      <th>3</th>\n",
       "      <td>HCC_004</td>\n",
       "      <td>1</td>\n",
       "      <td>7.57</td>\n",
       "      <td>5.428571</td>\n",
       "      <td>1</td>\n",
       "      <td>0</td>\n",
       "      <td>10.285714</td>\n",
       "      <td>No virus</td>\n",
       "      <td>80</td>\n",
       "      <td>&gt;70</td>\n",
       "      <td>...</td>\n",
       "      <td>3.0</td>\n",
       "      <td>70.8</td>\n",
       "      <td>70.8</td>\n",
       "      <td>3.0</td>\n",
       "      <td>65.0</td>\n",
       "      <td>44.0</td>\n",
       "      <td>2.0</td>\n",
       "      <td>65.0</td>\n",
       "      <td>50.9</td>\n",
       "      <td>3.0</td>\n",
       "    </tr>\n",
       "    <tr>\n",
       "      <th>4</th>\n",
       "      <td>HCC_005</td>\n",
       "      <td>435</td>\n",
       "      <td>13.86</td>\n",
       "      <td>12.857143</td>\n",
       "      <td>1</td>\n",
       "      <td>0</td>\n",
       "      <td>56.285714</td>\n",
       "      <td>No virus</td>\n",
       "      <td>73</td>\n",
       "      <td>&gt;70</td>\n",
       "      <td>...</td>\n",
       "      <td>3.0</td>\n",
       "      <td>70.2</td>\n",
       "      <td>62.1</td>\n",
       "      <td>3.0</td>\n",
       "      <td>67.0</td>\n",
       "      <td>62.0</td>\n",
       "      <td>3.0</td>\n",
       "      <td>63.3</td>\n",
       "      <td>68.2</td>\n",
       "      <td>3.0</td>\n",
       "    </tr>\n",
       "  </tbody>\n",
       "</table>\n",
       "<p>5 rows × 57 columns</p>\n",
       "</div>"
      ],
      "text/plain": [
       "   TCIA_ID  Interval_BL  Interval_FU         TTP  \\\n",
       "0  HCC_001          -18        20.43  197.000000   \n",
       "1  HCC_002           84        22.86   20.714286   \n",
       "2  HCC_003            3         7.00    5.571429   \n",
       "3  HCC_004            1         7.57    5.428571   \n",
       "4  HCC_005          435        13.86   12.857143   \n",
       "\n",
       "   Death_1_StillAliveorLostToFU_0  Censored_0_progressed_1          OS  \\\n",
       "0                               1                        1  350.285714   \n",
       "1                               1                        0   25.285714   \n",
       "2                               1                        1   21.428571   \n",
       "3                               1                        0   10.285714   \n",
       "4                               1                        0   56.285714   \n",
       "\n",
       "  hepatitis  age  agegp  ...  3_RECIST  1_mRECIST_BL  1_mRECIST_FU  1_mRECIST  \\\n",
       "0  HCV only   71    >70  ...       3.0          44.5           0.0        1.0   \n",
       "1  HBV only   72    >70  ...       3.0         103.7          58.6        2.0   \n",
       "2  HCV only   53  51-60  ...       3.0         162.2         173.9        3.0   \n",
       "3  No virus   80    >70  ...       3.0          70.8          70.8        3.0   \n",
       "4  No virus   73    >70  ...       3.0          70.2          62.1        3.0   \n",
       "\n",
       "   2_mRECIST_BL  2_mRECIST_FU  2_mRECIST  3_mRECIST_BL 3_mRECIST_FU  3_mRECIST  \n",
       "0          43.0           0.0        1.0          43.0          0.0        1.0  \n",
       "1         107.0          69.0        2.0         106.0         58.6        2.0  \n",
       "2          87.0         127.0        4.0         127.0        138.0        3.0  \n",
       "3          65.0          44.0        2.0          65.0         50.9        3.0  \n",
       "4          67.0          62.0        3.0          63.3         68.2        3.0  \n",
       "\n",
       "[5 rows x 57 columns]"
      ]
     },
     "execution_count": 16,
     "metadata": {},
     "output_type": "execute_result"
    }
   ],
   "source": [
    "data.head()"
   ]
  },
  {
   "cell_type": "code",
   "execution_count": 28,
   "metadata": {},
   "outputs": [
    {
     "name": "stdout",
     "output_type": "stream",
     "text": [
      "<class 'pandas.core.frame.DataFrame'>\n",
      "RangeIndex: 105 entries, 0 to 104\n",
      "Data columns (total 57 columns):\n",
      " #   Column                          Non-Null Count  Dtype  \n",
      "---  ------                          --------------  -----  \n",
      " 0   TCIA_ID                         105 non-null    object \n",
      " 1   Interval_BL                     105 non-null    int64  \n",
      " 2   Interval_FU                     97 non-null     float64\n",
      " 3   TTP                             105 non-null    float64\n",
      " 4   Death_1_StillAliveorLostToFU_0  105 non-null    int64  \n",
      " 5   Censored_0_progressed_1         105 non-null    int64  \n",
      " 6   OS                              105 non-null    float64\n",
      " 7   hepatitis                       105 non-null    object \n",
      " 8   age                             105 non-null    int64  \n",
      " 9   agegp                           105 non-null    object \n",
      " 10  Sex                             105 non-null    int64  \n",
      " 11  Smoking                         105 non-null    int64  \n",
      " 12  Alcohol                         105 non-null    int64  \n",
      " 13  fhx_can                         105 non-null    int64  \n",
      " 14  fhx_livc                        105 non-null    int64  \n",
      " 15  Diabetes                        105 non-null    int64  \n",
      " 16  Personal history of cancer      105 non-null    int64  \n",
      " 17  Evidence_of_cirh                105 non-null    int64  \n",
      " 18  Pathology                       105 non-null    object \n",
      " 19  PS_bclc_0_0_1-2_1_3-4_3         105 non-null    int64  \n",
      " 20  CPS                             105 non-null    object \n",
      " 21  Tr_Size                         53 non-null     float64\n",
      " 22  tumor_nodul                     105 non-null    object \n",
      " 23  Vascular invasion               105 non-null    int64  \n",
      " 24  Metastasis                      105 non-null    int64  \n",
      " 25  Lymphnodes                      105 non-null    int64  \n",
      " 26  Portal Vein Thrombosis          105 non-null    int64  \n",
      " 27  T_involvment                    105 non-null    object \n",
      " 28  AFP                             105 non-null    float64\n",
      " 29  AFP_group                       105 non-null    object \n",
      " 30  CLIP_Score                      105 non-null    object \n",
      " 31  CLIP                            105 non-null    object \n",
      " 32  Okuda                           105 non-null    object \n",
      " 33  TNM                             105 non-null    object \n",
      " 34  BCLC                            105 non-null    object \n",
      " 35  chemotherapy                    88 non-null     object \n",
      " 36  1_EASL_BL                       96 non-null     float64\n",
      " 37  1_EASL_FU                       96 non-null     float64\n",
      " 38  1_EASL                          96 non-null     float64\n",
      " 39  1_RECIST_BL                     96 non-null     float64\n",
      " 40  1_RECIST_FU                     96 non-null     float64\n",
      " 41  1_RECIST                        96 non-null     float64\n",
      " 42  2_RECIST_BL                     96 non-null     float64\n",
      " 43  2_RECIST_FU                     96 non-null     float64\n",
      " 44  2_RECIST                        96 non-null     float64\n",
      " 45  3_RECIST_BL                     95 non-null     float64\n",
      " 46  3_RECIST_FU                     95 non-null     float64\n",
      " 47  3_RECIST                        95 non-null     float64\n",
      " 48  1_mRECIST_BL                    96 non-null     float64\n",
      " 49  1_mRECIST_FU                    96 non-null     float64\n",
      " 50  1_mRECIST                       96 non-null     float64\n",
      " 51  2_mRECIST_BL                    96 non-null     float64\n",
      " 52  2_mRECIST_FU                    96 non-null     float64\n",
      " 53  2_mRECIST                       96 non-null     float64\n",
      " 54  3_mRECIST_BL                    95 non-null     float64\n",
      " 55  3_mRECIST_FU                    95 non-null     float64\n",
      " 56  3_mRECIST                       95 non-null     float64\n",
      "dtypes: float64(26), int64(17), object(14)\n",
      "memory usage: 46.9+ KB\n"
     ]
    }
   ],
   "source": [
    "data.info()"
   ]
  },
  {
   "cell_type": "code",
   "execution_count": 29,
   "metadata": {},
   "outputs": [
    {
     "data": {
      "text/plain": [
       "0    HCC_001\n",
       "1    HCC_002\n",
       "2    HCC_003\n",
       "3    HCC_004\n",
       "4    HCC_005\n",
       "Name: TCIA_ID, dtype: object"
      ]
     },
     "execution_count": 29,
     "metadata": {},
     "output_type": "execute_result"
    }
   ],
   "source": [
    "data['TCIA_ID'][:5]"
   ]
  },
  {
   "cell_type": "code",
   "execution_count": 39,
   "metadata": {},
   "outputs": [
    {
     "data": {
      "text/plain": [
       "105"
      ]
     },
     "execution_count": 39,
     "metadata": {},
     "output_type": "execute_result"
    }
   ],
   "source": [
    "data['TCIA_ID'].count()"
   ]
  },
  {
   "cell_type": "code",
   "execution_count": 42,
   "metadata": {},
   "outputs": [
    {
     "data": {
      "text/plain": [
       "'Unique ids: 105'"
      ]
     },
     "execution_count": 42,
     "metadata": {},
     "output_type": "execute_result"
    }
   ],
   "source": [
    "'Unique ids: %d' % data['TCIA_ID'].value_counts().shape[0]"
   ]
  },
  {
   "cell_type": "markdown",
   "metadata": {},
   "source": [
    "Some files are not present. Let's remove them from the dataset"
   ]
  },
  {
   "cell_type": "code",
   "execution_count": 35,
   "metadata": {},
   "outputs": [
    {
     "name": "stdout",
     "output_type": "stream",
     "text": [
      "WARN: File not found: Data/TCIA/TCIA_results_phase_PV/HCC_001_PV.nii.gz\n",
      "WARN: File not found: Data/TCIA/TCIA_results_phase_PV/HCC_008_PV.nii.gz\n",
      "WARN: File not found: Data/TCIA/TCIA_results_phase_PV/HCC_011_PV.nii.gz\n",
      "WARN: File not found: Data/TCIA/TCIA_results_phase_PV/HCC_013_PV.nii.gz\n",
      "WARN: File not found: Data/TCIA/TCIA_results_phase_PV/HCC_015_PV.nii.gz\n",
      "WARN: File not found: Data/TCIA/TCIA_results_phase_PV/HCC_018_PV.nii.gz\n",
      "WARN: File not found: Data/TCIA/TCIA_results_phase_PV/HCC_020_PV.nii.gz\n",
      "WARN: File not found: Data/TCIA/TCIA_results_phase_PV/HCC_021_PV.nii.gz\n",
      "WARN: File not found: Data/TCIA/TCIA_results_phase_PV/HCC_025_PV.nii.gz\n",
      "WARN: File not found: Data/TCIA/TCIA_results_phase_PV/HCC_027_PV.nii.gz\n",
      "WARN: File not found: Data/TCIA/TCIA_results_phase_PV/HCC_031_PV.nii.gz\n",
      "WARN: File not found: Data/TCIA/TCIA_results_phase_PV/HCC_043_PV.nii.gz\n",
      "WARN: File not found: Data/TCIA/TCIA_results_phase_PV/HCC_045_PV.nii.gz\n",
      "WARN: File not found: Data/TCIA/TCIA_results_phase_PV/HCC_050_PV.nii.gz\n",
      "WARN: File not found: Data/TCIA/TCIA_results_phase_PV/HCC_082_PV.nii.gz\n",
      "WARN: File not found: Data/TCIA/TCIA_results_phase_PV/HCC_090_PV.nii.gz\n",
      "16 files not found\n"
     ]
    }
   ],
   "source": [
    "reals = []\n",
    "count = 0\n",
    "for id in data['TCIA_ID']:\n",
    "    file_path = os.path.join(TCIA_IMG_PATH, id + TCIA_IMG_SUFFIX)\n",
    "    if os.path.exists(file_path):\n",
    "        reals.append(file_path)\n",
    "    else:\n",
    "        print('WARN: File not found: %s' % file_path)\n",
    "        count +=1\n",
    "print('%d files not found' % count)"
   ]
  },
  {
   "cell_type": "markdown",
   "metadata": {},
   "source": [
    "### Data visualization"
   ]
  },
  {
   "cell_type": "markdown",
   "metadata": {},
   "source": [
    "Display the first available image"
   ]
  },
  {
   "cell_type": "code",
   "execution_count": 47,
   "metadata": {},
   "outputs": [
    {
     "data": {
      "image/png": "[encoded data removed]",
      "text/plain": [
       "<Figure size 640x480 with 2 Axes>"
      ]
     },
     "metadata": {},
     "output_type": "display_data"
    }
   ],
   "source": [
    "# Load the .nii.gz file\n",
    "img = nib.load(reals[0])\n",
    "\n",
    "# Get the image data\n",
    "img_data = img.get_fdata()\n",
    "\n",
    "# Display a slice of the neuroimaging data\n",
    "plt.imshow(img_data[:, :, img_data.shape[2] // 2], cmap='gray')\n",
    "plt.axis('off')\n",
    "plt.colorbar()\n",
    "plt.title('Raw liver image')\n",
    "plt.show()\n"
   ]
  },
  {
   "cell_type": "markdown",
   "metadata": {},
   "source": [
    "### Display random images"
   ]
  },
  {
   "cell_type": "code",
   "execution_count": 43,
   "metadata": {},
   "outputs": [
    {
     "data": {
      "text/plain": [
       "['Data/TCIA/TCIA_results_phase_PV/HCC_079_PV.nii.gz',\n",
       " 'Data/TCIA/TCIA_results_phase_PV/HCC_010_PV.nii.gz',\n",
       " 'Data/TCIA/TCIA_results_phase_PV/HCC_071_PV.nii.gz',\n",
       " 'Data/TCIA/TCIA_results_phase_PV/HCC_089_PV.nii.gz',\n",
       " 'Data/TCIA/TCIA_results_phase_PV/HCC_023_PV.nii.gz',\n",
       " 'Data/TCIA/TCIA_results_phase_PV/HCC_054_PV.nii.gz',\n",
       " 'Data/TCIA/TCIA_results_phase_PV/HCC_065_PV.nii.gz',\n",
       " 'Data/TCIA/TCIA_results_phase_PV/HCC_069_PV.nii.gz',\n",
       " 'Data/TCIA/TCIA_results_phase_PV/HCC_105_PV.nii.gz']"
      ]
     },
     "execution_count": 43,
     "metadata": {},
     "output_type": "execute_result"
    }
   ],
   "source": [
    "# Extract 9 random images\n",
    "random_images = [np.random.choice(reals) for i in range(9)]\n",
    "\n",
    "random_images"
   ]
  },
  {
   "cell_type": "code",
   "execution_count": 44,
   "metadata": {},
   "outputs": [
    {
     "data": {
      "image/png": "[encoded data removed]",
      "text/plain": [
       "<Figure size 2000x1000 with 9 Axes>"
      ]
     },
     "metadata": {},
     "output_type": "display_data"
    }
   ],
   "source": [
    "plt.figure(figsize=(20,10))\n",
    "\n",
    "for i in range(9):\n",
    "    plt.subplot(3, 3, i + 1)\n",
    "    \n",
    "    # Load the .nii.gz file\n",
    "    img = nib.load(random_images[i])\n",
    "\n",
    "    # Get the image data\n",
    "    img_data = img.get_fdata()\n",
    "\n",
    "    plt.imshow(img_data[:, :, img_data.shape[2] // 2], cmap='gray')\n",
    "    plt.axis('off')\n",
    "\n",
    "plt.tight_layout()"
   ]
  },
  {
   "cell_type": "markdown",
   "metadata": {},
   "source": [
    "![Dog Meme](https://i.pinimg.com/474x/81/9d/5d/819d5df2b9b8798e21aa5fc1becec80a--number--dog-memes.jpg)\n"
   ]
  }
 ],
 "metadata": {
  "kernelspec": {
   "display_name": "ai-img",
   "language": "python",
   "name": "python3"
  },
  "language_info": {
   "codemirror_mode": {
    "name": "ipython",
    "version": 3
   },
   "file_extension": ".py",
   "mimetype": "text/x-python",
   "name": "python",
   "nbconvert_exporter": "python",
   "pygments_lexer": "ipython3",
   "version": "3.10.12"
  }
 },
 "nbformat": 4,
 "nbformat_minor": 2
}
