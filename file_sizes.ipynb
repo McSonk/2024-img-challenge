{
 "cells": [
  {
   "cell_type": "code",
   "execution_count": 1,
   "metadata": {},
   "outputs": [],
   "source": [
    "# => fails, necessary on Fedora 27, ipython3 6.2.1\n",
    "%config Application.log_level='INFO'\n",
    "\n",
    "import logging\n",
    "\n",
    "logging.basicConfig(level=logging.INFO)\n",
    "\n",
    "# Get the root logger and set its level\n",
    "logger = logging.getLogger()\n",
    "logger.setLevel(logging.INFO)"
   ]
  },
  {
   "cell_type": "code",
   "execution_count": 7,
   "metadata": {},
   "outputs": [],
   "source": [
    "from src.handlers import Handler, TciaHandler, OpHandler\n",
    "\n",
    "import nibabel as nib\n",
    "import numpy as np\n",
    "import seaborn as sns\n",
    "import matplotlib.pyplot as plt\n",
    "\n",
    "%matplotlib inline"
   ]
  },
  {
   "cell_type": "code",
   "execution_count": 3,
   "metadata": {},
   "outputs": [],
   "source": [
    "BASE_PATH = 'Data/'\n",
    "# ...\n",
    "TCIA_IMG_SUFFIX = '_PV.nii.gz'\n",
    "TCIA_LOCATION = BASE_PATH + 'TCIA/'\n",
    "TCIA_EXCEL_NAME = 'HCC-TACE-Seg_clinical_data-V2.xlsx'\n",
    "# ...\n",
    "OP_LOCATION = BASE_PATH + 'OP/'\n",
    "NIFTI_PATH = 'OP_C+P_nifti'\n",
    "NNU_NET_PATH = 'OP_C+P_nnUnet'\n",
    "OP_EXCEL = 'OP_申請建模_1121110_20231223.xlsx'\n",
    "OP_IMG_SUFFIX = '_VENOUS_PHASE.nii.gz'\n",
    "OP_MASK_SUFFIX = '_VENOUS_PHASE_seg.nii.gz'\n",
    "OP_ID_COL_NAME = 'OP_C+P_Tumor識別碼'\n"
   ]
  },
  {
   "cell_type": "code",
   "execution_count": 4,
   "metadata": {},
   "outputs": [
    {
     "name": "stderr",
     "output_type": "stream",
     "text": [
      "DEBUG:src.handlers:reading file...\n",
      "INFO:src.handlers:105 rows in the excel file\n",
      "INFO:src.handlers:Removed 3 stage-d elements\n",
      "DEBUG:src.handlers:Classifying...\n",
      "DEBUG:src.handlers:Looking for paths against contents\n",
      "DEBUG:src.handlers:File not found: Data/TCIA/TCIA_image_PV/HCC_011_PV.nii.gz\n",
      "DEBUG:src.handlers:File not found: Data/TCIA/TCIA_image_PV/HCC_031_PV.nii.gz\n",
      "DEBUG:src.handlers:File not found: Data/TCIA/TCIA_image_PV/HCC_082_PV.nii.gz\n",
      "WARNING:src.handlers:3 files not found\n",
      "DEBUG:src.handlers:None\n",
      "DEBUG:src.handlers:reading file Data/OP/OP_申請建模_1121110_20231223.xlsx\n",
      "INFO:src.handlers:200 rows in the excel file\n",
      "INFO:src.handlers:Removed 55 stage-d elements\n",
      "DEBUG:src.handlers:Classifying...\n",
      "DEBUG:src.handlers:Looking for paths against contents\n",
      "DEBUG:src.handlers:Searching for mismatch on files vs excel data...\n",
      "DEBUG:src.handlers:Returning new dataframe\n",
      "DEBUG:src.handlers:None\n"
     ]
    },
    {
     "name": "stdout",
     "output_type": "stream",
     "text": [
      "<class 'pandas.core.frame.DataFrame'>\n",
      "RangeIndex: 99 entries, 0 to 98\n",
      "Data columns (total 3 columns):\n",
      " #   Column  Non-Null Count  Dtype \n",
      "---  ------  --------------  ----- \n",
      " 0   class   99 non-null     object\n",
      " 1   img     99 non-null     object\n",
      " 2   mask    99 non-null     object\n",
      "dtypes: object(3)\n",
      "memory usage: 2.4+ KB\n",
      "<class 'pandas.core.frame.DataFrame'>\n",
      "RangeIndex: 244 entries, 0 to 243\n",
      "Data columns (total 3 columns):\n",
      " #   Column  Non-Null Count  Dtype \n",
      "---  ------  --------------  ----- \n",
      " 0   class   244 non-null    object\n",
      " 1   img     244 non-null    object\n",
      " 2   mask    244 non-null    object\n",
      "dtypes: object(3)\n",
      "memory usage: 5.8+ KB\n"
     ]
    }
   ],
   "source": [
    "global_handler = Handler()\n",
    "\n",
    "tcia = TciaHandler(TCIA_LOCATION, TCIA_IMG_SUFFIX, TCIA_EXCEL_NAME)\n",
    "global_handler.add_source(tcia)\n",
    "\n",
    "op = OpHandler(OP_LOCATION, NIFTI_PATH, NNU_NET_PATH, OP_IMG_SUFFIX, OP_MASK_SUFFIX, OP_EXCEL, OP_ID_COL_NAME)\n",
    "global_handler.add_source(op)"
   ]
  },
  {
   "cell_type": "code",
   "execution_count": 5,
   "metadata": {},
   "outputs": [
    {
     "data": {
      "text/html": [
       "<div>\n",
       "<style scoped>\n",
       "    .dataframe tbody tr th:only-of-type {\n",
       "        vertical-align: middle;\n",
       "    }\n",
       "\n",
       "    .dataframe tbody tr th {\n",
       "        vertical-align: top;\n",
       "    }\n",
       "\n",
       "    .dataframe thead th {\n",
       "        text-align: right;\n",
       "    }\n",
       "</style>\n",
       "<table border=\"1\" class=\"dataframe\">\n",
       "  <thead>\n",
       "    <tr style=\"text-align: right;\">\n",
       "      <th></th>\n",
       "      <th>class</th>\n",
       "      <th>img</th>\n",
       "      <th>mask</th>\n",
       "    </tr>\n",
       "  </thead>\n",
       "  <tbody>\n",
       "    <tr>\n",
       "      <th>0</th>\n",
       "      <td>0</td>\n",
       "      <td>Data/TCIA/TCIA_image_PV/HCC_001_PV.nii.gz</td>\n",
       "      <td>Data/TCIA/TCIA_results_phase_PV/HCC_001_PV.nii.gz</td>\n",
       "    </tr>\n",
       "    <tr>\n",
       "      <th>1</th>\n",
       "      <td>2</td>\n",
       "      <td>Data/TCIA/TCIA_image_PV/HCC_002_PV.nii.gz</td>\n",
       "      <td>Data/TCIA/TCIA_results_phase_PV/HCC_002_PV.nii.gz</td>\n",
       "    </tr>\n",
       "    <tr>\n",
       "      <th>2</th>\n",
       "      <td>2</td>\n",
       "      <td>Data/TCIA/TCIA_image_PV/HCC_003_PV.nii.gz</td>\n",
       "      <td>Data/TCIA/TCIA_results_phase_PV/HCC_003_PV.nii.gz</td>\n",
       "    </tr>\n",
       "    <tr>\n",
       "      <th>3</th>\n",
       "      <td>1</td>\n",
       "      <td>Data/TCIA/TCIA_image_PV/HCC_004_PV.nii.gz</td>\n",
       "      <td>Data/TCIA/TCIA_results_phase_PV/HCC_004_PV.nii.gz</td>\n",
       "    </tr>\n",
       "    <tr>\n",
       "      <th>4</th>\n",
       "      <td>2</td>\n",
       "      <td>Data/TCIA/TCIA_image_PV/HCC_005_PV.nii.gz</td>\n",
       "      <td>Data/TCIA/TCIA_results_phase_PV/HCC_005_PV.nii.gz</td>\n",
       "    </tr>\n",
       "    <tr>\n",
       "      <th>...</th>\n",
       "      <td>...</td>\n",
       "      <td>...</td>\n",
       "      <td>...</td>\n",
       "    </tr>\n",
       "    <tr>\n",
       "      <th>239</th>\n",
       "      <td>0.0</td>\n",
       "      <td>Data/OP/OP_C+P_nifti/OP_0293_VENOUS_PHASE.nii.gz</td>\n",
       "      <td>Data/OP/OP_C+P_nnUnet/OP_0293_VENOUS_PHASE_seg...</td>\n",
       "    </tr>\n",
       "    <tr>\n",
       "      <th>240</th>\n",
       "      <td>0.0</td>\n",
       "      <td>Data/OP/OP_C+P_nifti/OP_0294_VENOUS_PHASE.nii.gz</td>\n",
       "      <td>Data/OP/OP_C+P_nnUnet/OP_0294_VENOUS_PHASE_seg...</td>\n",
       "    </tr>\n",
       "    <tr>\n",
       "      <th>241</th>\n",
       "      <td>1.0</td>\n",
       "      <td>Data/OP/OP_C+P_nifti/OP_0295_VENOUS_PHASE.nii.gz</td>\n",
       "      <td>Data/OP/OP_C+P_nnUnet/OP_0295_VENOUS_PHASE_seg...</td>\n",
       "    </tr>\n",
       "    <tr>\n",
       "      <th>242</th>\n",
       "      <td>0.0</td>\n",
       "      <td>Data/OP/OP_C+P_nifti/OP_0296_VENOUS_PHASE.nii.gz</td>\n",
       "      <td>Data/OP/OP_C+P_nnUnet/OP_0296_VENOUS_PHASE_seg...</td>\n",
       "    </tr>\n",
       "    <tr>\n",
       "      <th>243</th>\n",
       "      <td>0.0</td>\n",
       "      <td>Data/OP/OP_C+P_nifti/OP_0298_VENOUS_PHASE.nii.gz</td>\n",
       "      <td>Data/OP/OP_C+P_nnUnet/OP_0298_VENOUS_PHASE_seg...</td>\n",
       "    </tr>\n",
       "  </tbody>\n",
       "</table>\n",
       "<p>244 rows × 3 columns</p>\n",
       "</div>"
      ],
      "text/plain": [
       "    class                                               img  \\\n",
       "0       0         Data/TCIA/TCIA_image_PV/HCC_001_PV.nii.gz   \n",
       "1       2         Data/TCIA/TCIA_image_PV/HCC_002_PV.nii.gz   \n",
       "2       2         Data/TCIA/TCIA_image_PV/HCC_003_PV.nii.gz   \n",
       "3       1         Data/TCIA/TCIA_image_PV/HCC_004_PV.nii.gz   \n",
       "4       2         Data/TCIA/TCIA_image_PV/HCC_005_PV.nii.gz   \n",
       "..    ...                                               ...   \n",
       "239   0.0  Data/OP/OP_C+P_nifti/OP_0293_VENOUS_PHASE.nii.gz   \n",
       "240   0.0  Data/OP/OP_C+P_nifti/OP_0294_VENOUS_PHASE.nii.gz   \n",
       "241   1.0  Data/OP/OP_C+P_nifti/OP_0295_VENOUS_PHASE.nii.gz   \n",
       "242   0.0  Data/OP/OP_C+P_nifti/OP_0296_VENOUS_PHASE.nii.gz   \n",
       "243   0.0  Data/OP/OP_C+P_nifti/OP_0298_VENOUS_PHASE.nii.gz   \n",
       "\n",
       "                                                  mask  \n",
       "0    Data/TCIA/TCIA_results_phase_PV/HCC_001_PV.nii.gz  \n",
       "1    Data/TCIA/TCIA_results_phase_PV/HCC_002_PV.nii.gz  \n",
       "2    Data/TCIA/TCIA_results_phase_PV/HCC_003_PV.nii.gz  \n",
       "3    Data/TCIA/TCIA_results_phase_PV/HCC_004_PV.nii.gz  \n",
       "4    Data/TCIA/TCIA_results_phase_PV/HCC_005_PV.nii.gz  \n",
       "..                                                 ...  \n",
       "239  Data/OP/OP_C+P_nnUnet/OP_0293_VENOUS_PHASE_seg...  \n",
       "240  Data/OP/OP_C+P_nnUnet/OP_0294_VENOUS_PHASE_seg...  \n",
       "241  Data/OP/OP_C+P_nnUnet/OP_0295_VENOUS_PHASE_seg...  \n",
       "242  Data/OP/OP_C+P_nnUnet/OP_0296_VENOUS_PHASE_seg...  \n",
       "243  Data/OP/OP_C+P_nnUnet/OP_0298_VENOUS_PHASE_seg...  \n",
       "\n",
       "[244 rows x 3 columns]"
      ]
     },
     "execution_count": 5,
     "metadata": {},
     "output_type": "execute_result"
    }
   ],
   "source": [
    "global_handler.df"
   ]
  },
  {
   "cell_type": "code",
   "execution_count": 11,
   "metadata": {},
   "outputs": [
    {
     "name": "stdout",
     "output_type": "stream",
     "text": [
      "244\n"
     ]
    }
   ],
   "source": [
    "sizes = []\n",
    "print(len(global_handler.df))\n",
    "for img in global_handler.df['img']:\n",
    "    data = nib.load(img).get_fdata()\n",
    "    sizes.append(data.shape[2])\n",
    "print('done!')"
   ]
  },
  {
   "cell_type": "code",
   "execution_count": 15,
   "metadata": {},
   "outputs": [
    {
     "data": {
      "image/png": "[encoded data removed]",
      "text/plain": [
       "<Figure size 500x500 with 1 Axes>"
      ]
     },
     "metadata": {},
     "output_type": "display_data"
    }
   ],
   "source": [
    "from collections import Counter\n",
    "\n",
    "sns.displot(sizes, kde=False)  # Plot histogram\n",
    "plt.xlabel(\"# of images\")\n",
    "plt.ylabel(\"Count\")\n",
    "plt.title(\"Distribution of Data\")\n",
    "plt.show()"
   ]
  },
  {
   "cell_type": "code",
   "execution_count": 17,
   "metadata": {},
   "outputs": [
    {
     "data": {
      "text/plain": [
       "Counter({89: 13,\n",
       "         79: 7,\n",
       "         49: 7,\n",
       "         47: 7,\n",
       "         44: 7,\n",
       "         109: 6,\n",
       "         81: 6,\n",
       "         85: 6,\n",
       "         99: 6,\n",
       "         51: 6,\n",
       "         41: 6,\n",
       "         103: 5,\n",
       "         65: 5,\n",
       "         91: 5,\n",
       "         48: 5,\n",
       "         36: 4,\n",
       "         95: 4,\n",
       "         75: 4,\n",
       "         71: 4,\n",
       "         63: 4,\n",
       "         77: 4,\n",
       "         105: 4,\n",
       "         121: 4,\n",
       "         42: 4,\n",
       "         52: 4,\n",
       "         53: 4,\n",
       "         50: 4,\n",
       "         57: 4,\n",
       "         69: 3,\n",
       "         62: 3,\n",
       "         98: 3,\n",
       "         67: 3,\n",
       "         83: 3,\n",
       "         45: 3,\n",
       "         43: 3,\n",
       "         94: 3,\n",
       "         58: 3,\n",
       "         84: 3,\n",
       "         40: 2,\n",
       "         73: 2,\n",
       "         97: 2,\n",
       "         87: 2,\n",
       "         111: 2,\n",
       "         37: 2,\n",
       "         56: 2,\n",
       "         39: 2,\n",
       "         92: 2,\n",
       "         90: 2,\n",
       "         54: 2,\n",
       "         61: 2,\n",
       "         101: 2,\n",
       "         88: 2,\n",
       "         38: 2,\n",
       "         46: 2,\n",
       "         128: 2,\n",
       "         113: 1,\n",
       "         59: 1,\n",
       "         30: 1,\n",
       "         118: 1,\n",
       "         127: 1,\n",
       "         185: 1,\n",
       "         170: 1,\n",
       "         133: 1,\n",
       "         117: 1,\n",
       "         187: 1,\n",
       "         131: 1,\n",
       "         115: 1,\n",
       "         120: 1,\n",
       "         106: 1,\n",
       "         80: 1,\n",
       "         119: 1,\n",
       "         104: 1,\n",
       "         64: 1,\n",
       "         72: 1,\n",
       "         135: 1,\n",
       "         144: 1,\n",
       "         60: 1,\n",
       "         142: 1,\n",
       "         55: 1,\n",
       "         126: 1,\n",
       "         35: 1,\n",
       "         86: 1,\n",
       "         82: 1,\n",
       "         110: 1,\n",
       "         108: 1,\n",
       "         78: 1})"
      ]
     },
     "execution_count": 17,
     "metadata": {},
     "output_type": "execute_result"
    }
   ],
   "source": [
    "from collections import Counter\n",
    "\n",
    "distribution = Counter(sizes)\n",
    "\n",
    "\n",
    "distribution"
   ]
  },
  {
   "cell_type": "code",
   "execution_count": 20,
   "metadata": {},
   "outputs": [
    {
     "name": "stdout",
     "output_type": "stream",
     "text": [
      "244\n",
      "done!\n"
     ]
    }
   ],
   "source": [
    "masks = []\n",
    "print(len(global_handler.df))\n",
    "for mask in global_handler.df['mask']:\n",
    "    data = nib.load(mask).get_fdata()\n",
    "    masks.append(data.shape[2])\n",
    "print('done!')"
   ]
  },
  {
   "cell_type": "code",
   "execution_count": 21,
   "metadata": {},
   "outputs": [
    {
     "data": {
      "image/png": "[encoded data removed]",
      "text/plain": [
       "<Figure size 500x500 with 1 Axes>"
      ]
     },
     "metadata": {},
     "output_type": "display_data"
    }
   ],
   "source": [
    "sns.displot(masks, kde=False)  # Plot histogram\n",
    "plt.xlabel(\"# of images\")\n",
    "plt.ylabel(\"Count\")\n",
    "plt.title(\"Distribution of Data\")\n",
    "plt.show()"
   ]
  }
 ],
 "metadata": {
  "kernelspec": {
   "display_name": "ai-img",
   "language": "python",
   "name": "python3"
  },
  "language_info": {
   "codemirror_mode": {
    "name": "ipython",
    "version": 3
   },
   "file_extension": ".py",
   "mimetype": "text/x-python",
   "name": "python",
   "nbconvert_exporter": "python",
   "pygments_lexer": "ipython3",
   "version": "3.10.12"
  }
 },
 "nbformat": 4,
 "nbformat_minor": 2
}
