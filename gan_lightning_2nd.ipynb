{
 "cells": [
  {
   "cell_type": "markdown",
   "metadata": {},
   "source": [
    "# Second try to implement a GAN in python lightning\n",
    "---"
   ]
  },
  {
   "cell_type": "markdown",
   "metadata": {},
   "source": [
    "## Imports and stuff"
   ]
  },
  {
   "cell_type": "code",
   "execution_count": 1,
   "metadata": {},
   "outputs": [],
   "source": [
    "import logging\n",
    "\n",
    "# Create a logger\n",
    "logger = logging.getLogger(__name__)\n",
    "logger.setLevel(logging.DEBUG)\n",
    "\n",
    "# Create a handler to output logs to the console\n",
    "handler = logging.StreamHandler()\n",
    "\n",
    "# Create a formatter to format the log messages\n",
    "formatter = logging.Formatter('%(asctime)s - %(name)s - %(levelname)s - %(message)s')\n",
    "\n",
    "# Add the formatter to the handler\n",
    "handler.setFormatter(formatter)\n",
    "\n",
    "# Add the handler to the logger\n",
    "logger.addHandler(handler)\n",
    "logging.getLogger('src.handlers').setLevel(logging.WARNING)"
   ]
  },
  {
   "cell_type": "code",
   "execution_count": 10,
   "metadata": {},
   "outputs": [
    {
     "data": {
      "text/plain": [
       "6"
      ]
     },
     "execution_count": 10,
     "metadata": {},
     "output_type": "execute_result"
    }
   ],
   "source": [
    "import os\n",
    "\n",
    "import numpy as np\n",
    "import pytorch_lightning as pl\n",
    "import torch\n",
    "import torch.nn as nn\n",
    "import torch.nn.functional as F\n",
    "import torchvision\n",
    "import torchvision.transforms as transforms\n",
    "from torchvision.transforms import Normalize\n",
    "from torch.utils.data import DataLoader, random_split\n",
    "from monai.data import (CacheDataset, DataLoader, ImageDataset, PersistentDataset,\n",
    "                        pad_list_data_collate)\n",
    "from monai.transforms import (Compose, EnsureChannelFirst, Resize, ScaleIntensity, ToTensor,\n",
    "                              Orientation, ScaleIntensityRange)\n",
    "\n",
    "from src.handlers import Handler, OpHandler, TciaHandler\n",
    "\n",
    "BATCH_SIZE = 256 if torch.cuda.is_available() else 64\n",
    "NUM_WORKERS = int(os.cpu_count() / 2)\n",
    "# NUM_WORKERS = 1\n",
    "\n",
    "NUM_WORKERS"
   ]
  },
  {
   "cell_type": "code",
   "execution_count": 3,
   "metadata": {},
   "outputs": [
    {
     "name": "stdout",
     "output_type": "stream",
     "text": [
      "Not a google drive environment\n"
     ]
    }
   ],
   "source": [
    "import sys\n",
    "\n",
    "try:\n",
    "    from google.colab import drive\n",
    "    drive.mount('/content/drive')\n",
    "    sys.path.append('/content/drive/MyDrive/School/NTU/training')\n",
    "    is_colab = True\n",
    "except:\n",
    "    print('Not a google drive environment')\n",
    "    is_colab = False"
   ]
  },
  {
   "cell_type": "code",
   "execution_count": 4,
   "metadata": {},
   "outputs": [],
   "source": [
    "if is_colab:\n",
    "  BASE_PATH = '/content/drive/MyDrive/School/NTU/training/Data/'\n",
    "else:\n",
    "  BASE_PATH = 'Data/'\n",
    "# ...\n",
    "TCIA_IMG_SUFFIX = '_PV.nii.gz'\n",
    "TCIA_LOCATION = BASE_PATH + 'TCIA/'\n",
    "TCIA_EXCEL_NAME = 'HCC-TACE-Seg_clinical_data-V2.xlsx'\n",
    "# ...\n",
    "OP_LOCATION = BASE_PATH + 'OP/'\n",
    "NIFTI_PATH = 'OP_C+P_nifti'\n",
    "NNU_NET_PATH = 'OP_C+P_nnUnet'\n",
    "OP_EXCEL = 'OP_申請建模_1121110_20231223.xlsx'\n",
    "OP_IMG_SUFFIX = '_VENOUS_PHASE.nii.gz'\n",
    "OP_MASK_SUFFIX = '_VENOUS_PHASE_seg.nii.gz'\n",
    "OP_ID_COL_NAME = 'OP_C+P_Tumor識別碼'"
   ]
  },
  {
   "cell_type": "markdown",
   "metadata": {},
   "source": [
    "## Data module"
   ]
  },
  {
   "cell_type": "code",
   "execution_count": 5,
   "metadata": {},
   "outputs": [],
   "source": [
    "class ImgDataModule(pl.LightningDataModule):\n",
    "    def __init__(\n",
    "        self,\n",
    "        batch_size: int = BATCH_SIZE,\n",
    "        num_workers: int = NUM_WORKERS,\n",
    "    ):\n",
    "        super().__init__()\n",
    "        self.batch_size = batch_size\n",
    "        self.num_workers = num_workers\n",
    "\n",
    "        self.transform = Compose([\n",
    "            EnsureChannelFirst(),\n",
    "            Resize((512, 512, 20)),\n",
    "            ScaleIntensity(),\n",
    "            ToTensor(),\n",
    "            Normalize((0.1307,), (0.3081,))\n",
    "        ])\n",
    "\n",
    "        self.dims = (1, 512, 512, 20)  # Update dimensions\n",
    "        self.num_classes = 3\n",
    "\n",
    "    def prepare_data(self):\n",
    "        global_handler = Handler()\n",
    "\n",
    "        tcia = TciaHandler(TCIA_LOCATION, TCIA_IMG_SUFFIX, TCIA_EXCEL_NAME)\n",
    "        global_handler.add_source(tcia)\n",
    "\n",
    "        op = OpHandler(OP_LOCATION, NIFTI_PATH, NNU_NET_PATH, OP_IMG_SUFFIX, OP_MASK_SUFFIX, OP_EXCEL, OP_ID_COL_NAME)\n",
    "        global_handler.add_source(op)\n",
    "\n",
    "        self.data = global_handler.df\n",
    "\n",
    "    def setup(self, stage=None):\n",
    "        imgs = self.data['img'].tolist()\n",
    "        classes = self.data['class'].tolist()\n",
    "        # Assign train/val datasets for use in dataloaders\n",
    "        if stage == \"fit\" or stage is None:\n",
    "            # Define the sizes for the train and test sets\n",
    "            train_size = int(0.8 * len(self.data))  # 80% for training\n",
    "            test_size = len(self.data) - train_size  # Remaining 20% for testing\n",
    "            _full = ImageDataset(\n",
    "                image_files=imgs,\n",
    "                labels=classes,\n",
    "                transform=self.transform,\n",
    "                # cache_rate=1.0,\n",
    "                # num_workers=num_workers,\n",
    "                # cache_dir=BASE_PATH + 'cache'\n",
    "            )\n",
    "            self.train_ds, self.val_ds = random_split(_full, [train_size, test_size])\n",
    "\n",
    "        # Assign test dataset for use in dataloader(s)\n",
    "        if stage == \"test\" or stage is None:\n",
    "            self.test_ds = ImageDataset(\n",
    "                image_files=imgs,\n",
    "                labels=classes,\n",
    "                transform=self.transform,\n",
    "                # cache_rate=1.0,\n",
    "                # num_workers=num_workers,\n",
    "                # cache_dir=BASE_PATH + 'cache'\n",
    "            )\n",
    "\n",
    "    def __default_dl__(self, dataset):\n",
    "        return DataLoader(\n",
    "            dataset,\n",
    "            batch_size=1,\n",
    "            num_workers=self.num_workers,\n",
    "            pin_memory=torch.cuda.is_available(),\n",
    "            collate_fn=pad_list_data_collate\n",
    "        )\n",
    "\n",
    "    def train_dataloader(self):\n",
    "        return self.__default_dl__(self.train_ds)\n",
    "\n",
    "    def val_dataloader(self):\n",
    "        return self.__default_dl__(self.val_ds)\n",
    "\n",
    "    def test_dataloader(self):\n",
    "        return self.__default_dl__(self.test_ds)"
   ]
  },
  {
   "cell_type": "markdown",
   "metadata": {},
   "source": [
    "## Generator"
   ]
  },
  {
   "cell_type": "code",
   "execution_count": 6,
   "metadata": {},
   "outputs": [],
   "source": [
    "class Generator(nn.Module):\n",
    "    def __init__(self,  latent_dim, img_shape):\n",
    "        super().__init__()\n",
    "        logger.debug(f'Generator with input_dim: {latent_dim} and output_dim: {img_shape} ')\n",
    "        self.img_shape = img_shape\n",
    "        self.model = nn.Sequential(\n",
    "            nn.Linear(latent_dim, 128),\n",
    "            nn.ReLU(),\n",
    "            nn.Linear(128, 256),\n",
    "            nn.ReLU(),\n",
    "            nn.Linear(256, int(np.prod(img_shape))),\n",
    "            nn.Tanh()\n",
    "        )\n",
    "\n",
    "    def forward(self, z):\n",
    "        logger.debug('*******generator.forward*****************')\n",
    "        logger.debug(f'z size: {z.size()}, type: {z.dtype}')\n",
    "        logger.debug('Calling model sequential...')\n",
    "        img = self.model(z)\n",
    "        img = img.view(img.size(0), *self.img_shape)\n",
    "        return img\n",
    "        # return self.model(z)"
   ]
  },
  {
   "cell_type": "markdown",
   "metadata": {},
   "source": [
    "## Discriminator"
   ]
  },
  {
   "cell_type": "code",
   "execution_count": 8,
   "metadata": {},
   "outputs": [],
   "source": [
    "class Discriminator(nn.Module):\n",
    "    def __init__(self, img_shape):\n",
    "        super().__init__()\n",
    "\n",
    "        self.model = nn.Sequential(\n",
    "            nn.Linear(int(np.prod(img_shape)), 256),\n",
    "            nn.ReLU(),\n",
    "            nn.Linear(256, 128),\n",
    "            nn.ReLU(),\n",
    "            nn.Linear(128, 1),\n",
    "            nn.Sigmoid()\n",
    "        )\n",
    "\n",
    "    def forward(self, img):\n",
    "        img_flat = img.view(img.size(0), -1)\n",
    "        validity = self.model(img_flat)\n",
    "\n",
    "        return validity\n",
    "        # return self.model(img)"
   ]
  },
  {
   "cell_type": "markdown",
   "metadata": {},
   "source": [
    "## Other attempt"
   ]
  },
  {
   "cell_type": "code",
   "execution_count": 9,
   "metadata": {},
   "outputs": [],
   "source": [
    "import torch.nn.functional as F\n",
    "# Define the GAN model\n",
    "class GAN(pl.LightningModule):\n",
    "    def __init__(self, generator, discriminator, latent_dim, lr):\n",
    "        super().__init__()\n",
    "        self.generator = generator\n",
    "        self.discriminator = discriminator\n",
    "        self.latent_dim = latent_dim\n",
    "        self.lr = lr\n",
    "\n",
    "        self.automatic_optimization = False\n",
    "\n",
    "    def forward(self, z):\n",
    "        logger.debug('*******CGAN.forward************')\n",
    "        return self.generator(z)\n",
    "\n",
    "    def generator_step(self, real_images):\n",
    "        logger.debug('************CGAN.generator_step********')\n",
    "        z = torch.randn(real_images.size(0), self.latent_dim, device=self.device)\n",
    "        fake_images = self(z)\n",
    "        fake_preds = self.discriminator(fake_images)\n",
    "        g_loss = nn.BCELoss()(fake_preds, torch.ones_like(fake_preds))\n",
    "        return g_loss\n",
    "\n",
    "    def discriminator_step(self, real_images):\n",
    "        logger.debug('************CGAN.discriminator_step********')\n",
    "        z = torch.randn(real_images.size(0), self.latent_dim)\n",
    "        fake_images = self(z)\n",
    "        real_preds = self.discriminator(real_images)\n",
    "        fake_preds = self.discriminator(fake_images)\n",
    "        real_loss = nn.BCELoss()(real_preds, torch.ones_like(real_preds))\n",
    "        fake_loss = nn.BCELoss()(fake_preds, torch.zeros_like(fake_preds))\n",
    "        d_loss = (real_loss + fake_loss) / 2\n",
    "        return d_loss\n",
    "\n",
    "    def training_step(self, batch, batch_idx):\n",
    "        logger.debug('********CGAN.training_step****************')\n",
    "        real_images, _ = batch\n",
    "        z = torch.randn(real_images.size(0), self.latent_dim, device=self.device)\n",
    "        \n",
    "        logger.debug('z datatype: %s' % z.dtype)\n",
    "\n",
    "        # Get optimizers\n",
    "        opt_g, opt_d = self.optimizers()\n",
    "\n",
    "        # fake_imgs = self.generator(z, labels)\n",
    "\n",
    "        # Train generator\n",
    "        if self.global_step % 2 == 0:\n",
    "            logger.debug('Training generator....')\n",
    "            fake_images = self(z)\n",
    "            # fake_preds = self.discriminator(torch.cat([fake_images, labels], dim=1))\n",
    "            fake_preds = self.discriminator(fake_images)\n",
    "            g_loss = nn.BCELoss()(fake_preds, torch.ones_like(fake_preds))\n",
    "            opt_g.zero_grad()\n",
    "            self.manual_backward(g_loss)\n",
    "            opt_g.step()\n",
    "            self.log('g_loss', g_loss, prog_bar=True)\n",
    "            return g_loss\n",
    "\n",
    "        # Train discriminator\n",
    "        else:\n",
    "            logger.debug('Training discriminator...')\n",
    "            fake_images = self(z)\n",
    "            real_preds = self.discriminator(real_images)\n",
    "            fake_preds = self.discriminator(fake_images)\n",
    "            real_loss = nn.BCELoss()(real_preds, torch.ones_like(real_preds))\n",
    "            fake_loss = nn.BCELoss()(fake_preds, torch.zeros_like(fake_preds))\n",
    "            d_loss = (real_loss + fake_loss) / 2\n",
    "            opt_d.zero_grad()\n",
    "            self.manual_backward(d_loss)\n",
    "            opt_d.step()\n",
    "            self.log('d_loss', d_loss, prog_bar=True)\n",
    "            return d_loss\n",
    "\n",
    "    def configure_optimizers(self):\n",
    "        g_optimizer = torch.optim.Adam(self.generator.parameters(), lr=self.lr)\n",
    "        d_optimizer = torch.optim.Adam(self.discriminator.parameters(), lr=self.lr)\n",
    "        return [g_optimizer, d_optimizer]"
   ]
  },
  {
   "cell_type": "code",
   "execution_count": 11,
   "metadata": {},
   "outputs": [
    {
     "name": "stderr",
     "output_type": "stream",
     "text": [
      "3 files not found\n"
     ]
    },
    {
     "name": "stdout",
     "output_type": "stream",
     "text": [
      "<class 'pandas.core.frame.DataFrame'>\n",
      "RangeIndex: 99 entries, 0 to 98\n",
      "Data columns (total 3 columns):\n",
      " #   Column  Non-Null Count  Dtype \n",
      "---  ------  --------------  ----- \n",
      " 0   class   99 non-null     object\n",
      " 1   img     99 non-null     object\n",
      " 2   mask    99 non-null     object\n",
      "dtypes: object(3)\n",
      "memory usage: 2.4+ KB\n",
      "<class 'pandas.core.frame.DataFrame'>\n",
      "RangeIndex: 244 entries, 0 to 243\n",
      "Data columns (total 3 columns):\n",
      " #   Column  Non-Null Count  Dtype \n",
      "---  ------  --------------  ----- \n",
      " 0   class   244 non-null    object\n",
      " 1   img     244 non-null    object\n",
      " 2   mask    244 non-null    object\n",
      "dtypes: object(3)\n",
      "memory usage: 5.8+ KB\n"
     ]
    },
    {
     "name": "stderr",
     "output_type": "stream",
     "text": [
      "2024-09-05 02:17:23,704 - __main__ - DEBUG - ----inspecting first element---\n",
      "2024-09-05 02:17:23,705 - __main__ - DEBUG - type: <class 'list'>, length: 2\n",
      "2024-09-05 02:17:23,705 - __main__ - DEBUG - --element at index 0--\n",
      "2024-09-05 02:17:23,706 - __main__ - DEBUG - torch.Size([1, 1, 512, 512, 20])\n",
      "2024-09-05 02:17:23,707 - __main__ - DEBUG - --element at index 1--\n",
      "2024-09-05 02:17:23,707 - __main__ - DEBUG - torch.Size([1])\n",
      "2024-09-05 02:17:23,708 - __main__ - DEBUG - Generator with input_dim: 100 and output_dim: (1, 512, 512, 20) \n",
      "GPU available: False, used: False\n",
      "TPU available: False, using: 0 TPU cores\n",
      "HPU available: False, using: 0 HPUs\n",
      "\n",
      "  | Name          | Type          | Params | Mode \n",
      "--------------------------------------------------------\n",
      "0 | generator     | Generator     | 1.3 B  | train\n",
      "1 | discriminator | Discriminator | 1.3 B  | train\n",
      "--------------------------------------------------------\n",
      "2.7 B     Trainable params\n",
      "0         Non-trainable params\n",
      "2.7 B     Total params\n",
      "10,758.707Total estimated model params size (MB)\n",
      "16        Modules in train mode\n",
      "0         Modules in eval mode\n",
      "The 'train_dataloader' does not have many workers which may be a bottleneck. Consider increasing the value of the `num_workers` argument` to `num_workers=11` in the `DataLoader` to improve performance.\n"
     ]
    },
    {
     "data": {
      "application/vnd.jupyter.widget-view+json": {
       "model_id": "f0fb09e6368e4190974f7ab5f371a27e",
       "version_major": 2,
       "version_minor": 0
      },
      "text/plain": [
       "Training: |          | 0/? [00:00<?, ?it/s]"
      ]
     },
     "metadata": {},
     "output_type": "display_data"
    },
    {
     "name": "stderr",
     "output_type": "stream",
     "text": [
      "2024-09-05 02:17:40,031 - __main__ - DEBUG - ********CGAN.training_step****************\n",
      "2024-09-05 02:17:40,063 - __main__ - DEBUG - z datatype: torch.float32\n",
      "2024-09-05 02:17:40,064 - __main__ - DEBUG - Training generator....\n",
      "2024-09-05 02:17:40,064 - __main__ - DEBUG - *******CGAN.forward************\n",
      "2024-09-05 02:17:40,064 - __main__ - DEBUG - *******generator.forward*****************\n",
      "2024-09-05 02:17:40,064 - __main__ - DEBUG - z size: torch.Size([1, 100]), type: torch.float32\n",
      "2024-09-05 02:17:40,065 - __main__ - DEBUG - Calling model sequential...\n"
     ]
    },
    {
     "ename": "",
     "evalue": "",
     "output_type": "error",
     "traceback": [
      "\u001b[1;31mThe Kernel crashed while executing code in the current cell or a previous cell. \n",
      "\u001b[1;31mPlease review the code in the cell(s) to identify a possible cause of the failure. \n",
      "\u001b[1;31mClick <a href='https://aka.ms/vscodeJupyterKernelCrash'>here</a> for more info. \n",
      "\u001b[1;31mView Jupyter <a href='command:jupyter.viewOutput'>log</a> for further details."
     ]
    }
   ],
   "source": [
    "from monai.utils.misc import first\n",
    "\n",
    "# Prepare the dataset\n",
    "dm = ImgDataModule()\n",
    "dm.prepare_data()\n",
    "dm.setup()\n",
    "\n",
    "dataloader = dm.train_dataloader()\n",
    "\n",
    "data = first(dataloader)\n",
    "logger.debug('----inspecting first element---')\n",
    "logger.debug(f'type: {type(data)}, length: {len(data)}')\n",
    "logger.debug('--element at index 0--')\n",
    "logger.debug(data[0].size())\n",
    "logger.debug('--element at index 1--')\n",
    "logger.debug(data[1].size())\n",
    "\n",
    "# Initialize the model\n",
    "latent_dim = 100\n",
    "img_shape = (1, 512, 512, 20)\n",
    "generator = Generator(latent_dim, img_shape)\n",
    "discriminator = Discriminator(img_shape)\n",
    "model = GAN(generator, discriminator, latent_dim, lr=0.0002)\n",
    "\n",
    "# Train the model\n",
    "trainer = pl.Trainer(max_epochs=1)\n",
    "trainer.fit(model, dataloader)"
   ]
  }
 ],
 "metadata": {
  "kernelspec": {
   "display_name": "monai",
   "language": "python",
   "name": "python3"
  },
  "language_info": {
   "codemirror_mode": {
    "name": "ipython",
    "version": 3
   },
   "file_extension": ".py",
   "mimetype": "text/x-python",
   "name": "python",
   "nbconvert_exporter": "python",
   "pygments_lexer": "ipython3",
   "version": "3.10.12"
  }
 },
 "nbformat": 4,
 "nbformat_minor": 4
}
